{
 "cells": [
  {
   "cell_type": "code",
   "execution_count": 65,
   "metadata": {},
   "outputs": [],
   "source": [
    "import pandas as pd\n",
    "import matplotlib.pyplot as plt\n",
    "import seaborn as sns\n",
    "\n",
    "%matplotlib inline"
   ]
  },
  {
   "cell_type": "code",
   "execution_count": 97,
   "metadata": {},
   "outputs": [],
   "source": [
    "df = pd.read_csv('query3.csv')"
   ]
  },
  {
   "cell_type": "code",
   "execution_count": 134,
   "metadata": {},
   "outputs": [
    {
     "data": {
      "text/html": [
       "<div>\n",
       "<style scoped>\n",
       "    .dataframe tbody tr th:only-of-type {\n",
       "        vertical-align: middle;\n",
       "    }\n",
       "\n",
       "    .dataframe tbody tr th {\n",
       "        vertical-align: top;\n",
       "    }\n",
       "\n",
       "    .dataframe thead th {\n",
       "        text-align: right;\n",
       "    }\n",
       "</style>\n",
       "<table border=\"1\" class=\"dataframe\">\n",
       "  <thead>\n",
       "    <tr style=\"text-align: right;\">\n",
       "      <th></th>\n",
       "      <th>flight_id</th>\n",
       "      <th>flight_no</th>\n",
       "      <th>departure_airport</th>\n",
       "      <th>arrival_airport</th>\n",
       "      <th>model</th>\n",
       "      <th>ticket_business</th>\n",
       "      <th>ticket_comfort</th>\n",
       "      <th>ticket_economy</th>\n",
       "      <th>weekday</th>\n",
       "      <th>flight_time</th>\n",
       "      <th>total_amount</th>\n",
       "      <th>max_seets</th>\n",
       "      <th>No_seats</th>\n",
       "      <th>load</th>\n",
       "    </tr>\n",
       "  </thead>\n",
       "  <tbody>\n",
       "    <tr>\n",
       "      <th>0</th>\n",
       "      <td>136119</td>\n",
       "      <td>PG0252</td>\n",
       "      <td>AAQ</td>\n",
       "      <td>SVO</td>\n",
       "      <td>Boeing 737-300</td>\n",
       "      <td>11.0</td>\n",
       "      <td>0.0</td>\n",
       "      <td>102.0</td>\n",
       "      <td>2.0</td>\n",
       "      <td>100.0</td>\n",
       "      <td>1653000.0</td>\n",
       "      <td>130</td>\n",
       "      <td>113.0</td>\n",
       "      <td>86.9</td>\n",
       "    </tr>\n",
       "    <tr>\n",
       "      <th>1</th>\n",
       "      <td>136120</td>\n",
       "      <td>PG0252</td>\n",
       "      <td>AAQ</td>\n",
       "      <td>SVO</td>\n",
       "      <td>Boeing 737-300</td>\n",
       "      <td>11.0</td>\n",
       "      <td>0.0</td>\n",
       "      <td>98.0</td>\n",
       "      <td>5.0</td>\n",
       "      <td>100.0</td>\n",
       "      <td>1605400.0</td>\n",
       "      <td>130</td>\n",
       "      <td>109.0</td>\n",
       "      <td>83.8</td>\n",
       "    </tr>\n",
       "    <tr>\n",
       "      <th>2</th>\n",
       "      <td>136122</td>\n",
       "      <td>PG0252</td>\n",
       "      <td>AAQ</td>\n",
       "      <td>SVO</td>\n",
       "      <td>Boeing 737-300</td>\n",
       "      <td>10.0</td>\n",
       "      <td>0.0</td>\n",
       "      <td>87.0</td>\n",
       "      <td>0.0</td>\n",
       "      <td>100.0</td>\n",
       "      <td>1431000.0</td>\n",
       "      <td>130</td>\n",
       "      <td>97.0</td>\n",
       "      <td>74.6</td>\n",
       "    </tr>\n",
       "    <tr>\n",
       "      <th>3</th>\n",
       "      <td>136130</td>\n",
       "      <td>PG0252</td>\n",
       "      <td>AAQ</td>\n",
       "      <td>SVO</td>\n",
       "      <td>Boeing 737-300</td>\n",
       "      <td>10.0</td>\n",
       "      <td>0.0</td>\n",
       "      <td>97.0</td>\n",
       "      <td>1.0</td>\n",
       "      <td>100.0</td>\n",
       "      <td>1556600.0</td>\n",
       "      <td>130</td>\n",
       "      <td>107.0</td>\n",
       "      <td>82.3</td>\n",
       "    </tr>\n",
       "    <tr>\n",
       "      <th>4</th>\n",
       "      <td>136131</td>\n",
       "      <td>PG0252</td>\n",
       "      <td>AAQ</td>\n",
       "      <td>SVO</td>\n",
       "      <td>Boeing 737-300</td>\n",
       "      <td>12.0</td>\n",
       "      <td>0.0</td>\n",
       "      <td>112.0</td>\n",
       "      <td>6.0</td>\n",
       "      <td>100.0</td>\n",
       "      <td>1812800.0</td>\n",
       "      <td>130</td>\n",
       "      <td>124.0</td>\n",
       "      <td>95.4</td>\n",
       "    </tr>\n",
       "  </tbody>\n",
       "</table>\n",
       "</div>"
      ],
      "text/plain": [
       "   flight_id flight_no departure_airport arrival_airport           model  \\\n",
       "0     136119    PG0252               AAQ             SVO  Boeing 737-300   \n",
       "1     136120    PG0252               AAQ             SVO  Boeing 737-300   \n",
       "2     136122    PG0252               AAQ             SVO  Boeing 737-300   \n",
       "3     136130    PG0252               AAQ             SVO  Boeing 737-300   \n",
       "4     136131    PG0252               AAQ             SVO  Boeing 737-300   \n",
       "\n",
       "   ticket_business  ticket_comfort  ticket_economy  weekday  flight_time  \\\n",
       "0             11.0             0.0           102.0      2.0        100.0   \n",
       "1             11.0             0.0            98.0      5.0        100.0   \n",
       "2             10.0             0.0            87.0      0.0        100.0   \n",
       "3             10.0             0.0            97.0      1.0        100.0   \n",
       "4             12.0             0.0           112.0      6.0        100.0   \n",
       "\n",
       "   total_amount  max_seets  No_seats  load  \n",
       "0     1653000.0        130     113.0  86.9  \n",
       "1     1605400.0        130     109.0  83.8  \n",
       "2     1431000.0        130      97.0  74.6  \n",
       "3     1556600.0        130     107.0  82.3  \n",
       "4     1812800.0        130     124.0  95.4  "
      ]
     },
     "execution_count": 134,
     "metadata": {},
     "output_type": "execute_result"
    }
   ],
   "source": [
    "df.head()"
   ]
  },
  {
   "cell_type": "code",
   "execution_count": 99,
   "metadata": {},
   "outputs": [],
   "source": [
    "df['max_seets'] = df['model']\\\n",
    "                            .apply(lambda x: 130 if x == 'Boeing 737-300'  else 97)\n"
   ]
  },
  {
   "cell_type": "code",
   "execution_count": 100,
   "metadata": {},
   "outputs": [
    {
     "data": {
      "text/plain": [
       "Index(['flight_id', 'flight_no', 'departure_airport', 'arrival_airport',\n",
       "       'model', 'ticket_business', 'ticket_comfort', 'ticket_economy',\n",
       "       'weekday', 'flight_time', 'total_amount', 'max_seets'],\n",
       "      dtype='object')"
      ]
     },
     "execution_count": 100,
     "metadata": {},
     "output_type": "execute_result"
    }
   ],
   "source": [
    "df.columns"
   ]
  },
  {
   "cell_type": "code",
   "execution_count": 101,
   "metadata": {},
   "outputs": [],
   "source": [
    "df['No_seats']=df.ticket_business + df.ticket_comfort + df.ticket_economy"
   ]
  },
  {
   "cell_type": "code",
   "execution_count": 102,
   "metadata": {},
   "outputs": [],
   "source": [
    "df['load']=round(df['No_seats']/df['max_seets']*100,1)"
   ]
  },
  {
   "cell_type": "code",
   "execution_count": 103,
   "metadata": {},
   "outputs": [
    {
     "data": {
      "text/plain": [
       "SVO    90\n",
       "EGO    90\n",
       "NOZ    13\n",
       "Name: arrival_airport, dtype: int64"
      ]
     },
     "execution_count": 103,
     "metadata": {},
     "output_type": "execute_result"
    }
   ],
   "source": [
    "df.arrival_airport.value_counts()"
   ]
  },
  {
   "cell_type": "code",
   "execution_count": 104,
   "metadata": {},
   "outputs": [
    {
     "data": {
      "text/html": [
       "<div>\n",
       "<style scoped>\n",
       "    .dataframe tbody tr th:only-of-type {\n",
       "        vertical-align: middle;\n",
       "    }\n",
       "\n",
       "    .dataframe tbody tr th {\n",
       "        vertical-align: top;\n",
       "    }\n",
       "\n",
       "    .dataframe thead th {\n",
       "        text-align: right;\n",
       "    }\n",
       "</style>\n",
       "<table border=\"1\" class=\"dataframe\">\n",
       "  <thead>\n",
       "    <tr style=\"text-align: right;\">\n",
       "      <th></th>\n",
       "      <th>flight_id</th>\n",
       "      <th>flight_no</th>\n",
       "      <th>departure_airport</th>\n",
       "      <th>arrival_airport</th>\n",
       "      <th>model</th>\n",
       "      <th>ticket_business</th>\n",
       "      <th>ticket_comfort</th>\n",
       "      <th>ticket_economy</th>\n",
       "      <th>weekday</th>\n",
       "      <th>flight_time</th>\n",
       "      <th>total_amount</th>\n",
       "      <th>max_seets</th>\n",
       "      <th>No_seats</th>\n",
       "      <th>load</th>\n",
       "    </tr>\n",
       "  </thead>\n",
       "  <tbody>\n",
       "    <tr>\n",
       "      <th>2</th>\n",
       "      <td>136122</td>\n",
       "      <td>PG0252</td>\n",
       "      <td>AAQ</td>\n",
       "      <td>SVO</td>\n",
       "      <td>Boeing 737-300</td>\n",
       "      <td>10.0</td>\n",
       "      <td>0.0</td>\n",
       "      <td>87.0</td>\n",
       "      <td>0.0</td>\n",
       "      <td>100.0</td>\n",
       "      <td>1431000.0</td>\n",
       "      <td>130</td>\n",
       "      <td>97.0</td>\n",
       "      <td>74.6</td>\n",
       "    </tr>\n",
       "    <tr>\n",
       "      <th>30</th>\n",
       "      <td>136253</td>\n",
       "      <td>PG0252</td>\n",
       "      <td>AAQ</td>\n",
       "      <td>SVO</td>\n",
       "      <td>Boeing 737-300</td>\n",
       "      <td>11.0</td>\n",
       "      <td>0.0</td>\n",
       "      <td>82.0</td>\n",
       "      <td>6.0</td>\n",
       "      <td>100.0</td>\n",
       "      <td>1407800.0</td>\n",
       "      <td>130</td>\n",
       "      <td>93.0</td>\n",
       "      <td>71.5</td>\n",
       "    </tr>\n",
       "    <tr>\n",
       "      <th>56</th>\n",
       "      <td>136352</td>\n",
       "      <td>PG0252</td>\n",
       "      <td>AAQ</td>\n",
       "      <td>SVO</td>\n",
       "      <td>Boeing 737-300</td>\n",
       "      <td>10.0</td>\n",
       "      <td>0.0</td>\n",
       "      <td>82.0</td>\n",
       "      <td>6.0</td>\n",
       "      <td>100.0</td>\n",
       "      <td>1372400.0</td>\n",
       "      <td>130</td>\n",
       "      <td>92.0</td>\n",
       "      <td>70.8</td>\n",
       "    </tr>\n",
       "    <tr>\n",
       "      <th>57</th>\n",
       "      <td>136360</td>\n",
       "      <td>PG0252</td>\n",
       "      <td>AAQ</td>\n",
       "      <td>SVO</td>\n",
       "      <td>Boeing 737-300</td>\n",
       "      <td>11.0</td>\n",
       "      <td>0.0</td>\n",
       "      <td>86.0</td>\n",
       "      <td>0.0</td>\n",
       "      <td>100.0</td>\n",
       "      <td>1455400.0</td>\n",
       "      <td>130</td>\n",
       "      <td>97.0</td>\n",
       "      <td>74.6</td>\n",
       "    </tr>\n",
       "    <tr>\n",
       "      <th>69</th>\n",
       "      <td>136418</td>\n",
       "      <td>PG0252</td>\n",
       "      <td>AAQ</td>\n",
       "      <td>SVO</td>\n",
       "      <td>Boeing 737-300</td>\n",
       "      <td>9.0</td>\n",
       "      <td>0.0</td>\n",
       "      <td>88.0</td>\n",
       "      <td>3.0</td>\n",
       "      <td>100.0</td>\n",
       "      <td>1407800.0</td>\n",
       "      <td>130</td>\n",
       "      <td>97.0</td>\n",
       "      <td>74.6</td>\n",
       "    </tr>\n",
       "    <tr>\n",
       "      <th>115</th>\n",
       "      <td>136642</td>\n",
       "      <td>PG0480</td>\n",
       "      <td>AAQ</td>\n",
       "      <td>EGO</td>\n",
       "      <td>Sukhoi Superjet-100</td>\n",
       "      <td>10.0</td>\n",
       "      <td>0.0</td>\n",
       "      <td>54.0</td>\n",
       "      <td>1.0</td>\n",
       "      <td>50.0</td>\n",
       "      <td>531000.0</td>\n",
       "      <td>97</td>\n",
       "      <td>64.0</td>\n",
       "      <td>66.0</td>\n",
       "    </tr>\n",
       "    <tr>\n",
       "      <th>157</th>\n",
       "      <td>136807</td>\n",
       "      <td>PG0480</td>\n",
       "      <td>AAQ</td>\n",
       "      <td>EGO</td>\n",
       "      <td>Sukhoi Superjet-100</td>\n",
       "      <td>8.0</td>\n",
       "      <td>0.0</td>\n",
       "      <td>60.0</td>\n",
       "      <td>4.0</td>\n",
       "      <td>50.0</td>\n",
       "      <td>531000.0</td>\n",
       "      <td>97</td>\n",
       "      <td>68.0</td>\n",
       "      <td>70.1</td>\n",
       "    </tr>\n",
       "  </tbody>\n",
       "</table>\n",
       "</div>"
      ],
      "text/plain": [
       "     flight_id flight_no departure_airport arrival_airport  \\\n",
       "2       136122    PG0252               AAQ             SVO   \n",
       "30      136253    PG0252               AAQ             SVO   \n",
       "56      136352    PG0252               AAQ             SVO   \n",
       "57      136360    PG0252               AAQ             SVO   \n",
       "69      136418    PG0252               AAQ             SVO   \n",
       "115     136642    PG0480               AAQ             EGO   \n",
       "157     136807    PG0480               AAQ             EGO   \n",
       "\n",
       "                   model  ticket_business  ticket_comfort  ticket_economy  \\\n",
       "2         Boeing 737-300             10.0             0.0            87.0   \n",
       "30        Boeing 737-300             11.0             0.0            82.0   \n",
       "56        Boeing 737-300             10.0             0.0            82.0   \n",
       "57        Boeing 737-300             11.0             0.0            86.0   \n",
       "69        Boeing 737-300              9.0             0.0            88.0   \n",
       "115  Sukhoi Superjet-100             10.0             0.0            54.0   \n",
       "157  Sukhoi Superjet-100              8.0             0.0            60.0   \n",
       "\n",
       "     weekday  flight_time  total_amount  max_seets  No_seats  load  \n",
       "2        0.0        100.0     1431000.0        130      97.0  74.6  \n",
       "30       6.0        100.0     1407800.0        130      93.0  71.5  \n",
       "56       6.0        100.0     1372400.0        130      92.0  70.8  \n",
       "57       0.0        100.0     1455400.0        130      97.0  74.6  \n",
       "69       3.0        100.0     1407800.0        130      97.0  74.6  \n",
       "115      1.0         50.0      531000.0         97      64.0  66.0  \n",
       "157      4.0         50.0      531000.0         97      68.0  70.1  "
      ]
     },
     "execution_count": 104,
     "metadata": {},
     "output_type": "execute_result"
    }
   ],
   "source": [
    "df[df.load<75]"
   ]
  },
  {
   "cell_type": "code",
   "execution_count": 105,
   "metadata": {},
   "outputs": [
    {
     "data": {
      "text/plain": [
       "<matplotlib.axes._subplots.AxesSubplot at 0x1d8f68e5ec8>"
      ]
     },
     "execution_count": 105,
     "metadata": {},
     "output_type": "execute_result"
    },
    {
     "data": {
      "image/png": "[encoded data removed]",
      "text/plain": [
       "<Figure size 432x288 with 1 Axes>"
      ]
     },
     "metadata": {
      "needs_background": "light"
     },
     "output_type": "display_data"
    }
   ],
   "source": [
    "df['load'][df['arrival_airport'] ==  'SVO'].hist(bins=10)"
   ]
  },
  {
   "cell_type": "code",
   "execution_count": 130,
   "metadata": {},
   "outputs": [],
   "source": [
    "def get_boxplot(column):\n",
    "    fig, ax = plt.subplots(figsize=(10, 4))\n",
    "    sns.boxplot(x=column, y='arrival_airport',\n",
    "                data=df,\n",
    "                ax=ax)\n",
    "    plt.xticks(rotation=45)\n",
    "    ax.set_title('Boxplot for ' + column)\n",
    "    plt.show()"
   ]
  },
  {
   "cell_type": "code",
   "execution_count": 131,
   "metadata": {},
   "outputs": [
    {
     "data": {
      "image/png": "[encoded data removed]",
      "text/plain": [
       "<Figure size 720x288 with 1 Axes>"
      ]
     },
     "metadata": {
      "needs_background": "light"
     },
     "output_type": "display_data"
    }
   ],
   "source": [
    "get_boxplot('load')"
   ]
  },
  {
   "cell_type": "code",
   "execution_count": 129,
   "metadata": {},
   "outputs": [],
   "source": [
    "def get_boxplot_hue(column):\n",
    "    fig, ax = plt.subplots(figsize=(10, 4))\n",
    "    sns.boxplot(x=column, y='arrival_airport',\n",
    "                data=df, hue = 'weekday',\n",
    "                ax=ax)\n",
    "    plt.xticks(rotation=45)\n",
    "    ax.set_title('Boxplot for ' + column)\n",
    "    plt.show()"
   ]
  },
  {
   "cell_type": "code",
   "execution_count": 132,
   "metadata": {},
   "outputs": [
    {
     "data": {
      "image/png": "[encoded data removed]",
      "text/plain": [
       "<Figure size 720x288 with 1 Axes>"
      ]
     },
     "metadata": {
      "needs_background": "light"
     },
     "output_type": "display_data"
    }
   ],
   "source": [
    "get_boxplot_hue('load')"
   ]
  },
  {
   "cell_type": "markdown",
   "metadata": {},
   "source": [
    "Boeing 737-300: топливная эффективность – 22,5 г/пасс.-км, часовая затрата горючего – 2,4 тыс. кг/ч\n",
    "\n",
    "\n",
    "\n",
    "Sukhoi Superjet 100: расход горючего на час – 1,7 тыс. кг/ч;\n",
    "\n",
    "\n",
    "цена авиатоплива дек2016 38867р, янв2017  41435р"
   ]
  },
  {
   "cell_type": "code",
   "execution_count": 127,
   "metadata": {},
   "outputs": [
    {
     "name": "stdout",
     "output_type": "stream",
     "text": [
      "1231 р/чел, 160000.0 руб расходы на топливо\n"
     ]
    }
   ],
   "source": [
    "SVO = 2.400*(100/60)*40000\n",
    "print(round(SVO/130),'р/чел,', SVO,'руб расходы на топливо')"
   ]
  },
  {
   "cell_type": "code",
   "execution_count": 128,
   "metadata": {},
   "outputs": [
    {
     "name": "stdout",
     "output_type": "stream",
     "text": [
      "577 р/чел, 56000.0 руб расходы на топливо\n"
     ]
    }
   ],
   "source": [
    "EGO = round(1.700*(50/60),1)*40000\n",
    "print(round(EGO/97),'р/чел,', EGO,'руб расходы на топливо')"
   ]
  },
  {
   "cell_type": "code",
   "execution_count": 95,
   "metadata": {},
   "outputs": [
    {
     "data": {
      "text/plain": [
       "90.25999999999999"
      ]
     },
     "execution_count": 95,
     "metadata": {},
     "output_type": "execute_result"
    }
   ],
   "source": [
    "df.load.mean()"
   ]
  },
  {
   "cell_type": "code",
   "execution_count": 133,
   "metadata": {},
   "outputs": [
    {
     "data": {
      "text/html": [
       "<div>\n",
       "<style scoped>\n",
       "    .dataframe tbody tr th:only-of-type {\n",
       "        vertical-align: middle;\n",
       "    }\n",
       "\n",
       "    .dataframe tbody tr th {\n",
       "        vertical-align: top;\n",
       "    }\n",
       "\n",
       "    .dataframe thead th {\n",
       "        text-align: right;\n",
       "    }\n",
       "</style>\n",
       "<table border=\"1\" class=\"dataframe\">\n",
       "  <thead>\n",
       "    <tr style=\"text-align: right;\">\n",
       "      <th></th>\n",
       "      <th>flight_id</th>\n",
       "      <th>flight_no</th>\n",
       "      <th>departure_airport</th>\n",
       "      <th>arrival_airport</th>\n",
       "      <th>model</th>\n",
       "      <th>ticket_business</th>\n",
       "      <th>ticket_comfort</th>\n",
       "      <th>ticket_economy</th>\n",
       "      <th>weekday</th>\n",
       "      <th>flight_time</th>\n",
       "      <th>total_amount</th>\n",
       "      <th>max_seets</th>\n",
       "      <th>No_seats</th>\n",
       "      <th>load</th>\n",
       "    </tr>\n",
       "  </thead>\n",
       "  <tbody>\n",
       "    <tr>\n",
       "      <th>0</th>\n",
       "      <td>136119</td>\n",
       "      <td>PG0252</td>\n",
       "      <td>AAQ</td>\n",
       "      <td>SVO</td>\n",
       "      <td>Boeing 737-300</td>\n",
       "      <td>11.0</td>\n",
       "      <td>0.0</td>\n",
       "      <td>102.0</td>\n",
       "      <td>2.0</td>\n",
       "      <td>100.0</td>\n",
       "      <td>1653000.0</td>\n",
       "      <td>130</td>\n",
       "      <td>113.0</td>\n",
       "      <td>86.9</td>\n",
       "    </tr>\n",
       "    <tr>\n",
       "      <th>1</th>\n",
       "      <td>136120</td>\n",
       "      <td>PG0252</td>\n",
       "      <td>AAQ</td>\n",
       "      <td>SVO</td>\n",
       "      <td>Boeing 737-300</td>\n",
       "      <td>11.0</td>\n",
       "      <td>0.0</td>\n",
       "      <td>98.0</td>\n",
       "      <td>5.0</td>\n",
       "      <td>100.0</td>\n",
       "      <td>1605400.0</td>\n",
       "      <td>130</td>\n",
       "      <td>109.0</td>\n",
       "      <td>83.8</td>\n",
       "    </tr>\n",
       "    <tr>\n",
       "      <th>2</th>\n",
       "      <td>136122</td>\n",
       "      <td>PG0252</td>\n",
       "      <td>AAQ</td>\n",
       "      <td>SVO</td>\n",
       "      <td>Boeing 737-300</td>\n",
       "      <td>10.0</td>\n",
       "      <td>0.0</td>\n",
       "      <td>87.0</td>\n",
       "      <td>0.0</td>\n",
       "      <td>100.0</td>\n",
       "      <td>1431000.0</td>\n",
       "      <td>130</td>\n",
       "      <td>97.0</td>\n",
       "      <td>74.6</td>\n",
       "    </tr>\n",
       "    <tr>\n",
       "      <th>3</th>\n",
       "      <td>136130</td>\n",
       "      <td>PG0252</td>\n",
       "      <td>AAQ</td>\n",
       "      <td>SVO</td>\n",
       "      <td>Boeing 737-300</td>\n",
       "      <td>10.0</td>\n",
       "      <td>0.0</td>\n",
       "      <td>97.0</td>\n",
       "      <td>1.0</td>\n",
       "      <td>100.0</td>\n",
       "      <td>1556600.0</td>\n",
       "      <td>130</td>\n",
       "      <td>107.0</td>\n",
       "      <td>82.3</td>\n",
       "    </tr>\n",
       "    <tr>\n",
       "      <th>4</th>\n",
       "      <td>136131</td>\n",
       "      <td>PG0252</td>\n",
       "      <td>AAQ</td>\n",
       "      <td>SVO</td>\n",
       "      <td>Boeing 737-300</td>\n",
       "      <td>12.0</td>\n",
       "      <td>0.0</td>\n",
       "      <td>112.0</td>\n",
       "      <td>6.0</td>\n",
       "      <td>100.0</td>\n",
       "      <td>1812800.0</td>\n",
       "      <td>130</td>\n",
       "      <td>124.0</td>\n",
       "      <td>95.4</td>\n",
       "    </tr>\n",
       "    <tr>\n",
       "      <th>...</th>\n",
       "      <td>...</td>\n",
       "      <td>...</td>\n",
       "      <td>...</td>\n",
       "      <td>...</td>\n",
       "      <td>...</td>\n",
       "      <td>...</td>\n",
       "      <td>...</td>\n",
       "      <td>...</td>\n",
       "      <td>...</td>\n",
       "      <td>...</td>\n",
       "      <td>...</td>\n",
       "      <td>...</td>\n",
       "      <td>...</td>\n",
       "      <td>...</td>\n",
       "    </tr>\n",
       "    <tr>\n",
       "      <th>188</th>\n",
       "      <td>136943</td>\n",
       "      <td>PG0480</td>\n",
       "      <td>AAQ</td>\n",
       "      <td>EGO</td>\n",
       "      <td>Sukhoi Superjet-100</td>\n",
       "      <td>11.0</td>\n",
       "      <td>0.0</td>\n",
       "      <td>83.0</td>\n",
       "      <td>1.0</td>\n",
       "      <td>50.0</td>\n",
       "      <td>733800.0</td>\n",
       "      <td>97</td>\n",
       "      <td>94.0</td>\n",
       "      <td>96.9</td>\n",
       "    </tr>\n",
       "    <tr>\n",
       "      <th>189</th>\n",
       "      <td>136951</td>\n",
       "      <td>PG0480</td>\n",
       "      <td>AAQ</td>\n",
       "      <td>EGO</td>\n",
       "      <td>Sukhoi Superjet-100</td>\n",
       "      <td>12.0</td>\n",
       "      <td>0.0</td>\n",
       "      <td>78.0</td>\n",
       "      <td>4.0</td>\n",
       "      <td>50.0</td>\n",
       "      <td>720600.0</td>\n",
       "      <td>97</td>\n",
       "      <td>90.0</td>\n",
       "      <td>92.8</td>\n",
       "    </tr>\n",
       "    <tr>\n",
       "      <th>190</th>\n",
       "      <td>136953</td>\n",
       "      <td>PG0480</td>\n",
       "      <td>AAQ</td>\n",
       "      <td>EGO</td>\n",
       "      <td>Sukhoi Superjet-100</td>\n",
       "      <td>12.0</td>\n",
       "      <td>0.0</td>\n",
       "      <td>85.0</td>\n",
       "      <td>1.0</td>\n",
       "      <td>50.0</td>\n",
       "      <td>765300.0</td>\n",
       "      <td>97</td>\n",
       "      <td>97.0</td>\n",
       "      <td>100.0</td>\n",
       "    </tr>\n",
       "    <tr>\n",
       "      <th>191</th>\n",
       "      <td>136956</td>\n",
       "      <td>PG0480</td>\n",
       "      <td>AAQ</td>\n",
       "      <td>EGO</td>\n",
       "      <td>Sukhoi Superjet-100</td>\n",
       "      <td>11.0</td>\n",
       "      <td>0.0</td>\n",
       "      <td>85.0</td>\n",
       "      <td>6.0</td>\n",
       "      <td>50.0</td>\n",
       "      <td>746400.0</td>\n",
       "      <td>97</td>\n",
       "      <td>96.0</td>\n",
       "      <td>99.0</td>\n",
       "    </tr>\n",
       "    <tr>\n",
       "      <th>192</th>\n",
       "      <td>136961</td>\n",
       "      <td>PG0480</td>\n",
       "      <td>AAQ</td>\n",
       "      <td>EGO</td>\n",
       "      <td>Sukhoi Superjet-100</td>\n",
       "      <td>12.0</td>\n",
       "      <td>0.0</td>\n",
       "      <td>84.0</td>\n",
       "      <td>3.0</td>\n",
       "      <td>50.0</td>\n",
       "      <td>759000.0</td>\n",
       "      <td>97</td>\n",
       "      <td>96.0</td>\n",
       "      <td>99.0</td>\n",
       "    </tr>\n",
       "  </tbody>\n",
       "</table>\n",
       "<p>193 rows × 14 columns</p>\n",
       "</div>"
      ],
      "text/plain": [
       "     flight_id flight_no departure_airport arrival_airport  \\\n",
       "0       136119    PG0252               AAQ             SVO   \n",
       "1       136120    PG0252               AAQ             SVO   \n",
       "2       136122    PG0252               AAQ             SVO   \n",
       "3       136130    PG0252               AAQ             SVO   \n",
       "4       136131    PG0252               AAQ             SVO   \n",
       "..         ...       ...               ...             ...   \n",
       "188     136943    PG0480               AAQ             EGO   \n",
       "189     136951    PG0480               AAQ             EGO   \n",
       "190     136953    PG0480               AAQ             EGO   \n",
       "191     136956    PG0480               AAQ             EGO   \n",
       "192     136961    PG0480               AAQ             EGO   \n",
       "\n",
       "                   model  ticket_business  ticket_comfort  ticket_economy  \\\n",
       "0         Boeing 737-300             11.0             0.0           102.0   \n",
       "1         Boeing 737-300             11.0             0.0            98.0   \n",
       "2         Boeing 737-300             10.0             0.0            87.0   \n",
       "3         Boeing 737-300             10.0             0.0            97.0   \n",
       "4         Boeing 737-300             12.0             0.0           112.0   \n",
       "..                   ...              ...             ...             ...   \n",
       "188  Sukhoi Superjet-100             11.0             0.0            83.0   \n",
       "189  Sukhoi Superjet-100             12.0             0.0            78.0   \n",
       "190  Sukhoi Superjet-100             12.0             0.0            85.0   \n",
       "191  Sukhoi Superjet-100             11.0             0.0            85.0   \n",
       "192  Sukhoi Superjet-100             12.0             0.0            84.0   \n",
       "\n",
       "     weekday  flight_time  total_amount  max_seets  No_seats   load  \n",
       "0        2.0        100.0     1653000.0        130     113.0   86.9  \n",
       "1        5.0        100.0     1605400.0        130     109.0   83.8  \n",
       "2        0.0        100.0     1431000.0        130      97.0   74.6  \n",
       "3        1.0        100.0     1556600.0        130     107.0   82.3  \n",
       "4        6.0        100.0     1812800.0        130     124.0   95.4  \n",
       "..       ...          ...           ...        ...       ...    ...  \n",
       "188      1.0         50.0      733800.0         97      94.0   96.9  \n",
       "189      4.0         50.0      720600.0         97      90.0   92.8  \n",
       "190      1.0         50.0      765300.0         97      97.0  100.0  \n",
       "191      6.0         50.0      746400.0         97      96.0   99.0  \n",
       "192      3.0         50.0      759000.0         97      96.0   99.0  \n",
       "\n",
       "[193 rows x 14 columns]"
      ]
     },
     "execution_count": 133,
     "metadata": {},
     "output_type": "execute_result"
    }
   ],
   "source": [
    "df"
   ]
  },
  {
   "cell_type": "code",
   "execution_count": null,
   "metadata": {},
   "outputs": [],
   "source": []
  }
 ],
 "metadata": {
  "kernelspec": {
   "display_name": "Python 3",
   "language": "python",
   "name": "python3"
  },
  "language_info": {
   "codemirror_mode": {
    "name": "ipython",
    "version": 3
   },
   "file_extension": ".py",
   "mimetype": "text/x-python",
   "name": "python",
   "nbconvert_exporter": "python",
   "pygments_lexer": "ipython3",
   "version": "3.7.6"
  }
 },
 "nbformat": 4,
 "nbformat_minor": 4
}
